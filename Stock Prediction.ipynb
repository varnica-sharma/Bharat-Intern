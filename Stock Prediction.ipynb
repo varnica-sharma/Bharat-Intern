{
 "cells": [
  {
   "cell_type": "markdown",
   "id": "5aa4a714",
   "metadata": {},
   "source": [
    "# STOCK PREDICTION"
   ]
  },
  {
   "cell_type": "markdown",
   "id": "8aa738af",
   "metadata": {},
   "source": [
    "### By - Varnica Sharma"
   ]
  },
  {
   "cell_type": "markdown",
   "id": "6d65e9dd",
   "metadata": {},
   "source": [
    "#### Using Netflix Stock Dataset and predicting the price using LSTM"
   ]
  },
  {
   "cell_type": "markdown",
   "id": "cb2a5656",
   "metadata": {},
   "source": [
    "## Importing required libraries"
   ]
  },
  {
   "cell_type": "code",
   "execution_count": 1,
   "id": "3b14f8ae",
   "metadata": {},
   "outputs": [],
   "source": [
    "import pandas as pd\n",
    "import numpy as np\n",
    "%matplotlib inline\n",
    "import matplotlib.pyplot as plt\n",
    "import math\n",
    "import seaborn as sns\n",
    "from sklearn.preprocessing import MinMaxScaler\n",
    "from sklearn.metrics import mean_squared_error\n",
    "import tensorflow as tf\n",
    "from tensorflow.python.keras.models import Sequential\n",
    "from tensorflow.python.keras.layers import Dense\n",
    "from tensorflow.python.keras.layers import LSTM\n",
    "from warnings import filterwarnings\n",
    "filterwarnings(\"ignore\")"
   ]
  },
  {
   "cell_type": "code",
   "execution_count": 2,
   "id": "f34ddccc",
   "metadata": {},
   "outputs": [],
   "source": [
    "nflx = pd.read_csv(\"data/NFLX.csv\")"
   ]
  },
  {
   "cell_type": "markdown",
   "id": "c17f85c0",
   "metadata": {},
   "source": [
    "## Gathering some info about data"
   ]
  },
  {
   "cell_type": "code",
   "execution_count": 3,
   "id": "2dde9a45",
   "metadata": {},
   "outputs": [
    {
     "data": {
      "text/html": [
       "<div>\n",
       "<style scoped>\n",
       "    .dataframe tbody tr th:only-of-type {\n",
       "        vertical-align: middle;\n",
       "    }\n",
       "\n",
       "    .dataframe tbody tr th {\n",
       "        vertical-align: top;\n",
       "    }\n",
       "\n",
       "    .dataframe thead th {\n",
       "        text-align: right;\n",
       "    }\n",
       "</style>\n",
       "<table border=\"1\" class=\"dataframe\">\n",
       "  <thead>\n",
       "    <tr style=\"text-align: right;\">\n",
       "      <th></th>\n",
       "      <th>Date</th>\n",
       "      <th>Open</th>\n",
       "      <th>High</th>\n",
       "      <th>Low</th>\n",
       "      <th>Close</th>\n",
       "      <th>Adj Close</th>\n",
       "      <th>Volume</th>\n",
       "    </tr>\n",
       "  </thead>\n",
       "  <tbody>\n",
       "    <tr>\n",
       "      <th>0</th>\n",
       "      <td>2002-05-23</td>\n",
       "      <td>1.156429</td>\n",
       "      <td>1.242857</td>\n",
       "      <td>1.145714</td>\n",
       "      <td>1.196429</td>\n",
       "      <td>1.196429</td>\n",
       "      <td>104790000</td>\n",
       "    </tr>\n",
       "    <tr>\n",
       "      <th>1</th>\n",
       "      <td>2002-05-24</td>\n",
       "      <td>1.214286</td>\n",
       "      <td>1.225000</td>\n",
       "      <td>1.197143</td>\n",
       "      <td>1.210000</td>\n",
       "      <td>1.210000</td>\n",
       "      <td>11104800</td>\n",
       "    </tr>\n",
       "    <tr>\n",
       "      <th>2</th>\n",
       "      <td>2002-05-28</td>\n",
       "      <td>1.213571</td>\n",
       "      <td>1.232143</td>\n",
       "      <td>1.157143</td>\n",
       "      <td>1.157143</td>\n",
       "      <td>1.157143</td>\n",
       "      <td>6609400</td>\n",
       "    </tr>\n",
       "    <tr>\n",
       "      <th>3</th>\n",
       "      <td>2002-05-29</td>\n",
       "      <td>1.164286</td>\n",
       "      <td>1.164286</td>\n",
       "      <td>1.085714</td>\n",
       "      <td>1.103571</td>\n",
       "      <td>1.103571</td>\n",
       "      <td>6757800</td>\n",
       "    </tr>\n",
       "    <tr>\n",
       "      <th>4</th>\n",
       "      <td>2002-05-30</td>\n",
       "      <td>1.107857</td>\n",
       "      <td>1.107857</td>\n",
       "      <td>1.071429</td>\n",
       "      <td>1.071429</td>\n",
       "      <td>1.071429</td>\n",
       "      <td>10154200</td>\n",
       "    </tr>\n",
       "  </tbody>\n",
       "</table>\n",
       "</div>"
      ],
      "text/plain": [
       "         Date      Open      High       Low     Close  Adj Close     Volume\n",
       "0  2002-05-23  1.156429  1.242857  1.145714  1.196429   1.196429  104790000\n",
       "1  2002-05-24  1.214286  1.225000  1.197143  1.210000   1.210000   11104800\n",
       "2  2002-05-28  1.213571  1.232143  1.157143  1.157143   1.157143    6609400\n",
       "3  2002-05-29  1.164286  1.164286  1.085714  1.103571   1.103571    6757800\n",
       "4  2002-05-30  1.107857  1.107857  1.071429  1.071429   1.071429   10154200"
      ]
     },
     "execution_count": 3,
     "metadata": {},
     "output_type": "execute_result"
    }
   ],
   "source": [
    "nflx.head()"
   ]
  },
  {
   "cell_type": "code",
   "execution_count": 4,
   "id": "1a465169",
   "metadata": {},
   "outputs": [
    {
     "data": {
      "text/html": [
       "<div>\n",
       "<style scoped>\n",
       "    .dataframe tbody tr th:only-of-type {\n",
       "        vertical-align: middle;\n",
       "    }\n",
       "\n",
       "    .dataframe tbody tr th {\n",
       "        vertical-align: top;\n",
       "    }\n",
       "\n",
       "    .dataframe thead th {\n",
       "        text-align: right;\n",
       "    }\n",
       "</style>\n",
       "<table border=\"1\" class=\"dataframe\">\n",
       "  <thead>\n",
       "    <tr style=\"text-align: right;\">\n",
       "      <th></th>\n",
       "      <th>Date</th>\n",
       "      <th>Open</th>\n",
       "      <th>High</th>\n",
       "      <th>Low</th>\n",
       "      <th>Close</th>\n",
       "      <th>Adj Close</th>\n",
       "      <th>Volume</th>\n",
       "    </tr>\n",
       "  </thead>\n",
       "  <tbody>\n",
       "    <tr>\n",
       "      <th>5039</th>\n",
       "      <td>2022-05-27</td>\n",
       "      <td>193.190002</td>\n",
       "      <td>195.250000</td>\n",
       "      <td>190.369995</td>\n",
       "      <td>195.190002</td>\n",
       "      <td>195.190002</td>\n",
       "      <td>8586000</td>\n",
       "    </tr>\n",
       "    <tr>\n",
       "      <th>5040</th>\n",
       "      <td>2022-05-31</td>\n",
       "      <td>196.179993</td>\n",
       "      <td>199.949997</td>\n",
       "      <td>190.800003</td>\n",
       "      <td>197.440002</td>\n",
       "      <td>197.440002</td>\n",
       "      <td>11398500</td>\n",
       "    </tr>\n",
       "    <tr>\n",
       "      <th>5041</th>\n",
       "      <td>2022-06-01</td>\n",
       "      <td>198.699997</td>\n",
       "      <td>202.740005</td>\n",
       "      <td>191.660004</td>\n",
       "      <td>192.910004</td>\n",
       "      <td>192.910004</td>\n",
       "      <td>8416200</td>\n",
       "    </tr>\n",
       "    <tr>\n",
       "      <th>5042</th>\n",
       "      <td>2022-06-02</td>\n",
       "      <td>192.020004</td>\n",
       "      <td>205.470001</td>\n",
       "      <td>191.720001</td>\n",
       "      <td>205.089996</td>\n",
       "      <td>205.089996</td>\n",
       "      <td>9623100</td>\n",
       "    </tr>\n",
       "    <tr>\n",
       "      <th>5043</th>\n",
       "      <td>2022-06-03</td>\n",
       "      <td>200.139999</td>\n",
       "      <td>202.949997</td>\n",
       "      <td>198.050003</td>\n",
       "      <td>198.979996</td>\n",
       "      <td>198.979996</td>\n",
       "      <td>7181700</td>\n",
       "    </tr>\n",
       "  </tbody>\n",
       "</table>\n",
       "</div>"
      ],
      "text/plain": [
       "            Date        Open        High         Low       Close   Adj Close  \\\n",
       "5039  2022-05-27  193.190002  195.250000  190.369995  195.190002  195.190002   \n",
       "5040  2022-05-31  196.179993  199.949997  190.800003  197.440002  197.440002   \n",
       "5041  2022-06-01  198.699997  202.740005  191.660004  192.910004  192.910004   \n",
       "5042  2022-06-02  192.020004  205.470001  191.720001  205.089996  205.089996   \n",
       "5043  2022-06-03  200.139999  202.949997  198.050003  198.979996  198.979996   \n",
       "\n",
       "        Volume  \n",
       "5039   8586000  \n",
       "5040  11398500  \n",
       "5041   8416200  \n",
       "5042   9623100  \n",
       "5043   7181700  "
      ]
     },
     "execution_count": 4,
     "metadata": {},
     "output_type": "execute_result"
    }
   ],
   "source": [
    "nflx.tail()"
   ]
  },
  {
   "cell_type": "code",
   "execution_count": 5,
   "id": "ac79c906",
   "metadata": {},
   "outputs": [
    {
     "name": "stdout",
     "output_type": "stream",
     "text": [
      "<class 'pandas.core.frame.DataFrame'>\n",
      "RangeIndex: 5044 entries, 0 to 5043\n",
      "Data columns (total 7 columns):\n",
      " #   Column     Non-Null Count  Dtype  \n",
      "---  ------     --------------  -----  \n",
      " 0   Date       5044 non-null   object \n",
      " 1   Open       5044 non-null   float64\n",
      " 2   High       5044 non-null   float64\n",
      " 3   Low        5044 non-null   float64\n",
      " 4   Close      5044 non-null   float64\n",
      " 5   Adj Close  5044 non-null   float64\n",
      " 6   Volume     5044 non-null   int64  \n",
      "dtypes: float64(5), int64(1), object(1)\n",
      "memory usage: 276.0+ KB\n"
     ]
    }
   ],
   "source": [
    "nflx.info()"
   ]
  },
  {
   "cell_type": "code",
   "execution_count": 6,
   "id": "66e496d3",
   "metadata": {},
   "outputs": [
    {
     "data": {
      "text/plain": [
       "Date         0\n",
       "Open         0\n",
       "High         0\n",
       "Low          0\n",
       "Close        0\n",
       "Adj Close    0\n",
       "Volume       0\n",
       "dtype: int64"
      ]
     },
     "execution_count": 6,
     "metadata": {},
     "output_type": "execute_result"
    }
   ],
   "source": [
    "nflx.isnull().sum()"
   ]
  },
  {
   "cell_type": "code",
   "execution_count": 7,
   "id": "e5f5215a",
   "metadata": {},
   "outputs": [
    {
     "data": {
      "text/plain": [
       "(5044,)"
      ]
     },
     "execution_count": 7,
     "metadata": {},
     "output_type": "execute_result"
    }
   ],
   "source": [
    "nflx1 = nflx.reset_index()[\"Close\"]\n",
    "nflx1.shape"
   ]
  },
  {
   "cell_type": "code",
   "execution_count": 8,
   "id": "5b52035d",
   "metadata": {},
   "outputs": [
    {
     "data": {
      "text/plain": [
       "0         1.196429\n",
       "1         1.210000\n",
       "2         1.157143\n",
       "3         1.103571\n",
       "4         1.071429\n",
       "           ...    \n",
       "5039    195.190002\n",
       "5040    197.440002\n",
       "5041    192.910004\n",
       "5042    205.089996\n",
       "5043    198.979996\n",
       "Name: Close, Length: 5044, dtype: float64"
      ]
     },
     "execution_count": 8,
     "metadata": {},
     "output_type": "execute_result"
    }
   ],
   "source": [
    "nflx1"
   ]
  },
  {
   "cell_type": "markdown",
   "id": "c9d1661b",
   "metadata": {},
   "source": [
    "## Preprocessing the data"
   ]
  },
  {
   "cell_type": "code",
   "execution_count": 9,
   "id": "3693c11d",
   "metadata": {},
   "outputs": [],
   "source": [
    "## Applying MinMaxScaler\n",
    "scaler = MinMaxScaler(feature_range=(0,1))\n",
    "nflx1=scaler.fit_transform(np.array(nflx1).reshape(-1,1))"
   ]
  },
  {
   "cell_type": "code",
   "execution_count": 10,
   "id": "f940a43a",
   "metadata": {},
   "outputs": [
    {
     "data": {
      "text/plain": [
       "array([[0.00119131],\n",
       "       [0.00121094],\n",
       "       [0.00113448],\n",
       "       ...,\n",
       "       [0.2785077 ],\n",
       "       [0.29612623],\n",
       "       [0.28728803]])"
      ]
     },
     "execution_count": 10,
     "metadata": {},
     "output_type": "execute_result"
    }
   ],
   "source": [
    "nflx1"
   ]
  },
  {
   "cell_type": "markdown",
   "id": "0a6eb311",
   "metadata": {},
   "source": [
    "#### Splitting dataset into train and test"
   ]
  },
  {
   "cell_type": "code",
   "execution_count": 11,
   "id": "328deb51",
   "metadata": {},
   "outputs": [],
   "source": [
    "training_size = int(len(nflx1)*0.70)\n",
    "test_size = len(nflx1)-training_size\n",
    "train_data, test_data = nflx1[0:training_size,:], nflx1[training_size:len(nflx1),:1]"
   ]
  },
  {
   "cell_type": "code",
   "execution_count": 12,
   "id": "28832574",
   "metadata": {},
   "outputs": [
    {
     "data": {
      "text/plain": [
       "(3530, 1514)"
      ]
     },
     "execution_count": 12,
     "metadata": {},
     "output_type": "execute_result"
    }
   ],
   "source": [
    "training_size, test_size"
   ]
  },
  {
   "cell_type": "markdown",
   "id": "13643533",
   "metadata": {},
   "source": [
    "#### Converting an array into dataset matrix"
   ]
  },
  {
   "cell_type": "code",
   "execution_count": 13,
   "id": "17ffe4c7",
   "metadata": {},
   "outputs": [],
   "source": [
    "def create_dataset(dataset, time_step=1):\n",
    "    dataX, dataY = [], []\n",
    "    for i in range(len(dataset)-time_step-1):\n",
    "        a = dataset[i:(i+time_step), 0] ### i=0, 0,1,2,3----99\n",
    "        dataX.append(a)\n",
    "        dataY.append(dataset[i + time_step, 0])\n",
    "    return np.array(dataX), np.array(dataY)"
   ]
  },
  {
   "cell_type": "markdown",
   "id": "7ef139ad",
   "metadata": {},
   "source": [
    "#### Reshape into X = t, t+1, t+2, t+3 and t+4"
   ]
  },
  {
   "cell_type": "code",
   "execution_count": 14,
   "id": "23c45706",
   "metadata": {},
   "outputs": [],
   "source": [
    "time_step = 100\n",
    "x_train, y_train = create_dataset(train_data, time_step)\n",
    "x_test, y_test = create_dataset(test_data, time_step)"
   ]
  },
  {
   "cell_type": "code",
   "execution_count": 15,
   "id": "4c8bd04b",
   "metadata": {},
   "outputs": [
    {
     "data": {
      "text/plain": [
       "((3429, 100), (3429,))"
      ]
     },
     "execution_count": 15,
     "metadata": {},
     "output_type": "execute_result"
    }
   ],
   "source": [
    "x_train.shape, y_train.shape"
   ]
  },
  {
   "cell_type": "markdown",
   "id": "1fa04c98",
   "metadata": {},
   "source": [
    "#### Reshape input to be [samples, time steps, features] required for LSTM"
   ]
  },
  {
   "cell_type": "code",
   "execution_count": 16,
   "id": "3119c327",
   "metadata": {},
   "outputs": [],
   "source": [
    "x_train = x_train.reshape(x_train.shape[0], x_train.shape[1], 1)\n",
    "x_test = x_test.reshape(x_test.shape[0], x_test.shape[1], 1)"
   ]
  },
  {
   "cell_type": "markdown",
   "id": "cad71d7c",
   "metadata": {},
   "source": [
    "## Creating  Stacked LSTM Model"
   ]
  },
  {
   "cell_type": "code",
   "execution_count": 17,
   "id": "a3c8d0d9",
   "metadata": {},
   "outputs": [],
   "source": [
    "model = Sequential()\n",
    "model.add(LSTM(50, return_sequences=True, input_shape=(100,1)))\n",
    "model.add(LSTM(50, return_sequences=True))\n",
    "model.add(LSTM(50))\n",
    "model.add(Dense(1))\n",
    "model.compile(loss=\"mean_squared_error\", optimizer=\"adam\")"
   ]
  },
  {
   "cell_type": "code",
   "execution_count": 18,
   "id": "29e1790a",
   "metadata": {},
   "outputs": [
    {
     "name": "stdout",
     "output_type": "stream",
     "text": [
      "Model: \"sequential\"\n",
      "_________________________________________________________________\n",
      "Layer (type)                 Output Shape              Param #   \n",
      "=================================================================\n",
      "lstm (LSTM)                  (None, 100, 50)           10400     \n",
      "_________________________________________________________________\n",
      "lstm_1 (LSTM)                (None, 100, 50)           20200     \n",
      "_________________________________________________________________\n",
      "lstm_2 (LSTM)                (None, 50)                20200     \n",
      "_________________________________________________________________\n",
      "dense (Dense)                (None, 1)                 51        \n",
      "=================================================================\n",
      "Total params: 50,851\n",
      "Trainable params: 50,851\n",
      "Non-trainable params: 0\n",
      "_________________________________________________________________\n"
     ]
    }
   ],
   "source": [
    "model.summary()"
   ]
  },
  {
   "cell_type": "code",
   "execution_count": 19,
   "id": "57999c21",
   "metadata": {},
   "outputs": [
    {
     "name": "stdout",
     "output_type": "stream",
     "text": [
      "Epoch 1/100\n",
      "54/54 [==============================] - 34s 400ms/step - loss: 4.3688e-04 - val_loss: 0.0035\n",
      "Epoch 2/100\n",
      "54/54 [==============================] - 21s 382ms/step - loss: 2.5218e-05 - val_loss: 0.0043\n",
      "Epoch 3/100\n",
      "54/54 [==============================] - 21s 385ms/step - loss: 2.3934e-05 - val_loss: 0.0022\n",
      "Epoch 4/100\n",
      "54/54 [==============================] - 21s 385ms/step - loss: 2.0206e-05 - val_loss: 0.0038\n",
      "Epoch 5/100\n",
      "54/54 [==============================] - 21s 382ms/step - loss: 2.0829e-05 - val_loss: 0.0039\n",
      "Epoch 6/100\n",
      "54/54 [==============================] - 21s 388ms/step - loss: 2.2798e-05 - val_loss: 0.0062\n",
      "Epoch 7/100\n",
      "54/54 [==============================] - 21s 390ms/step - loss: 1.9779e-05 - val_loss: 0.0060\n",
      "Epoch 8/100\n",
      "54/54 [==============================] - 23s 431ms/step - loss: 1.8268e-05 - val_loss: 0.0066\n",
      "Epoch 9/100\n",
      "54/54 [==============================] - 25s 461ms/step - loss: 1.7516e-05 - val_loss: 0.0072\n",
      "Epoch 10/100\n",
      "54/54 [==============================] - 25s 467ms/step - loss: 1.6779e-05 - val_loss: 0.0065\n",
      "Epoch 11/100\n",
      "54/54 [==============================] - 25s 471ms/step - loss: 1.4600e-05 - val_loss: 0.0034\n",
      "Epoch 12/100\n",
      "54/54 [==============================] - 25s 472ms/step - loss: 1.4541e-05 - val_loss: 0.0059\n",
      "Epoch 13/100\n",
      "54/54 [==============================] - 25s 468ms/step - loss: 1.3632e-05 - val_loss: 0.0066\n",
      "Epoch 14/100\n",
      "54/54 [==============================] - 25s 464ms/step - loss: 1.5911e-05 - val_loss: 0.0060\n",
      "Epoch 15/100\n",
      "54/54 [==============================] - 25s 464ms/step - loss: 1.3610e-05 - val_loss: 0.0049\n",
      "Epoch 16/100\n",
      "54/54 [==============================] - 25s 465ms/step - loss: 1.3459e-05 - val_loss: 0.0034\n",
      "Epoch 17/100\n",
      "54/54 [==============================] - 25s 464ms/step - loss: 1.3898e-05 - val_loss: 0.0050\n",
      "Epoch 18/100\n",
      "54/54 [==============================] - 25s 472ms/step - loss: 1.3059e-05 - val_loss: 0.0033\n",
      "Epoch 19/100\n",
      "54/54 [==============================] - 26s 487ms/step - loss: 1.4274e-05 - val_loss: 0.0054\n",
      "Epoch 20/100\n",
      "54/54 [==============================] - 27s 505ms/step - loss: 1.2456e-05 - val_loss: 0.0040\n",
      "Epoch 21/100\n",
      "54/54 [==============================] - 25s 463ms/step - loss: 1.4063e-05 - val_loss: 0.0033\n",
      "Epoch 22/100\n",
      "54/54 [==============================] - 26s 486ms/step - loss: 1.3713e-05 - val_loss: 0.0041\n",
      "Epoch 23/100\n",
      "54/54 [==============================] - 26s 483ms/step - loss: 1.1953e-05 - val_loss: 0.0037\n",
      "Epoch 24/100\n",
      "54/54 [==============================] - 27s 492ms/step - loss: 1.3104e-05 - val_loss: 0.0040\n",
      "Epoch 25/100\n",
      "54/54 [==============================] - 30s 561ms/step - loss: 1.5044e-05 - val_loss: 0.0021\n",
      "Epoch 26/100\n",
      "54/54 [==============================] - 30s 549ms/step - loss: 1.0343e-05 - val_loss: 0.0028\n",
      "Epoch 27/100\n",
      "54/54 [==============================] - 29s 546ms/step - loss: 1.0094e-05 - val_loss: 0.0047\n",
      "Epoch 28/100\n",
      "54/54 [==============================] - 29s 531ms/step - loss: 1.1228e-05 - val_loss: 0.0028\n",
      "Epoch 29/100\n",
      "54/54 [==============================] - 29s 535ms/step - loss: 1.0215e-05 - val_loss: 0.0024\n",
      "Epoch 30/100\n",
      "54/54 [==============================] - 29s 533ms/step - loss: 9.4372e-06 - val_loss: 0.0027\n",
      "Epoch 31/100\n",
      "54/54 [==============================] - 26s 482ms/step - loss: 1.0496e-05 - val_loss: 0.0023\n",
      "Epoch 32/100\n",
      "54/54 [==============================] - 27s 505ms/step - loss: 1.0629e-05 - val_loss: 0.0031\n",
      "Epoch 33/100\n",
      "54/54 [==============================] - 28s 529ms/step - loss: 1.0817e-05 - val_loss: 0.0018\n",
      "Epoch 34/100\n",
      "54/54 [==============================] - 28s 518ms/step - loss: 1.1524e-05 - val_loss: 0.0027\n",
      "Epoch 35/100\n",
      "54/54 [==============================] - 26s 475ms/step - loss: 1.0124e-05 - val_loss: 0.0015\n",
      "Epoch 36/100\n",
      "54/54 [==============================] - 26s 485ms/step - loss: 9.6052e-06 - val_loss: 0.0050\n",
      "Epoch 37/100\n",
      "54/54 [==============================] - 27s 499ms/step - loss: 9.5823e-06 - val_loss: 0.0026\n",
      "Epoch 38/100\n",
      "54/54 [==============================] - 27s 506ms/step - loss: 1.0034e-05 - val_loss: 0.0031\n",
      "Epoch 39/100\n",
      "54/54 [==============================] - 25s 470ms/step - loss: 1.1301e-05 - val_loss: 0.0036\n",
      "Epoch 40/100\n",
      "54/54 [==============================] - 26s 477ms/step - loss: 8.4781e-06 - val_loss: 0.0024\n",
      "Epoch 41/100\n",
      "54/54 [==============================] - 25s 467ms/step - loss: 8.7455e-06 - val_loss: 0.0029\n",
      "Epoch 42/100\n",
      "54/54 [==============================] - 25s 469ms/step - loss: 8.7358e-06 - val_loss: 0.0010\n",
      "Epoch 43/100\n",
      "54/54 [==============================] - 25s 468ms/step - loss: 8.5674e-06 - val_loss: 0.0023\n",
      "Epoch 44/100\n",
      "54/54 [==============================] - 28s 525ms/step - loss: 7.6337e-06 - val_loss: 0.0015\n",
      "Epoch 45/100\n",
      "54/54 [==============================] - 27s 499ms/step - loss: 7.8060e-06 - val_loss: 0.0019\n",
      "Epoch 46/100\n",
      "54/54 [==============================] - 26s 477ms/step - loss: 9.6702e-06 - val_loss: 0.0030\n",
      "Epoch 47/100\n",
      "54/54 [==============================] - 27s 498ms/step - loss: 7.8888e-06 - val_loss: 0.0019\n",
      "Epoch 48/100\n",
      "54/54 [==============================] - 31s 571ms/step - loss: 7.6815e-06 - val_loss: 0.0010\n",
      "Epoch 49/100\n",
      "54/54 [==============================] - 34s 623ms/step - loss: 8.7986e-06 - val_loss: 0.0014\n",
      "Epoch 50/100\n",
      "54/54 [==============================] - 30s 557ms/step - loss: 7.8565e-06 - val_loss: 0.0014\n",
      "Epoch 51/100\n",
      "54/54 [==============================] - 29s 542ms/step - loss: 8.2876e-06 - val_loss: 0.0021\n",
      "Epoch 52/100\n",
      "54/54 [==============================] - 26s 478ms/step - loss: 7.0049e-06 - val_loss: 7.2373e-04\n",
      "Epoch 53/100\n",
      "54/54 [==============================] - 25s 472ms/step - loss: 7.8972e-06 - val_loss: 0.0015\n",
      "Epoch 54/100\n",
      "54/54 [==============================] - 25s 468ms/step - loss: 7.9299e-06 - val_loss: 0.0036\n",
      "Epoch 55/100\n",
      "54/54 [==============================] - 26s 487ms/step - loss: 8.3645e-06 - val_loss: 0.0022\n",
      "Epoch 56/100\n",
      "54/54 [==============================] - 26s 489ms/step - loss: 6.0269e-06 - val_loss: 0.0010\n",
      "Epoch 57/100\n",
      "54/54 [==============================] - 26s 481ms/step - loss: 7.0267e-06 - val_loss: 0.0025\n",
      "Epoch 58/100\n",
      "54/54 [==============================] - 29s 530ms/step - loss: 7.5970e-06 - val_loss: 6.3798e-04\n",
      "Epoch 59/100\n",
      "54/54 [==============================] - 26s 476ms/step - loss: 6.3814e-06 - val_loss: 6.6888e-04\n",
      "Epoch 60/100\n",
      "54/54 [==============================] - 28s 519ms/step - loss: 7.9354e-06 - val_loss: 0.0012\n",
      "Epoch 61/100\n",
      "54/54 [==============================] - 31s 582ms/step - loss: 6.3578e-06 - val_loss: 9.8137e-04\n",
      "Epoch 62/100\n",
      "54/54 [==============================] - 30s 549ms/step - loss: 6.4292e-06 - val_loss: 0.0022\n",
      "Epoch 63/100\n",
      "54/54 [==============================] - 28s 528ms/step - loss: 7.4193e-06 - val_loss: 7.3033e-04\n",
      "Epoch 64/100\n",
      "54/54 [==============================] - 27s 494ms/step - loss: 6.0520e-06 - val_loss: 0.0019\n",
      "Epoch 65/100\n",
      "54/54 [==============================] - 28s 527ms/step - loss: 5.4596e-06 - val_loss: 0.0019\n",
      "Epoch 66/100\n",
      "54/54 [==============================] - 28s 526ms/step - loss: 5.3836e-06 - val_loss: 0.0016\n",
      "Epoch 67/100\n",
      "54/54 [==============================] - 26s 485ms/step - loss: 5.6489e-06 - val_loss: 4.0909e-04\n",
      "Epoch 68/100\n",
      "54/54 [==============================] - 31s 586ms/step - loss: 6.3131e-06 - val_loss: 0.0013\n",
      "Epoch 69/100\n",
      "54/54 [==============================] - 30s 557ms/step - loss: 6.1032e-06 - val_loss: 0.0014\n",
      "Epoch 70/100\n",
      "54/54 [==============================] - 26s 477ms/step - loss: 5.1781e-06 - val_loss: 7.5671e-04\n",
      "Epoch 71/100\n",
      "54/54 [==============================] - 28s 511ms/step - loss: 4.4912e-06 - val_loss: 9.3153e-04\n",
      "Epoch 72/100\n",
      "54/54 [==============================] - 33s 620ms/step - loss: 4.5704e-06 - val_loss: 9.2158e-04\n",
      "Epoch 73/100\n",
      "54/54 [==============================] - 30s 555ms/step - loss: 4.4410e-06 - val_loss: 8.6801e-04\n",
      "Epoch 74/100\n",
      "54/54 [==============================] - 29s 541ms/step - loss: 4.8055e-06 - val_loss: 0.0022\n",
      "Epoch 75/100\n",
      "54/54 [==============================] - 33s 614ms/step - loss: 4.9117e-06 - val_loss: 9.5866e-04\n",
      "Epoch 76/100\n",
      "54/54 [==============================] - 32s 593ms/step - loss: 4.1954e-06 - val_loss: 0.0012\n",
      "Epoch 77/100\n"
     ]
    },
    {
     "name": "stdout",
     "output_type": "stream",
     "text": [
      "54/54 [==============================] - 38s 704ms/step - loss: 4.6726e-06 - val_loss: 8.7275e-04\n",
      "Epoch 78/100\n",
      "54/54 [==============================] - 32s 592ms/step - loss: 4.4403e-06 - val_loss: 9.4224e-04\n",
      "Epoch 79/100\n",
      "54/54 [==============================] - 34s 640ms/step - loss: 4.1296e-06 - val_loss: 0.0010\n",
      "Epoch 80/100\n",
      "54/54 [==============================] - 31s 568ms/step - loss: 4.4962e-06 - val_loss: 0.0014\n",
      "Epoch 81/100\n",
      "54/54 [==============================] - 28s 515ms/step - loss: 4.2259e-06 - val_loss: 3.9657e-04\n",
      "Epoch 82/100\n",
      "54/54 [==============================] - 30s 555ms/step - loss: 4.3888e-06 - val_loss: 0.0011\n",
      "Epoch 83/100\n",
      "54/54 [==============================] - 29s 529ms/step - loss: 4.4945e-06 - val_loss: 5.5061e-04\n",
      "Epoch 84/100\n",
      "54/54 [==============================] - 25s 467ms/step - loss: 4.4804e-06 - val_loss: 0.0012\n",
      "Epoch 85/100\n",
      "54/54 [==============================] - 25s 471ms/step - loss: 4.9484e-06 - val_loss: 4.8650e-04\n",
      "Epoch 86/100\n",
      "54/54 [==============================] - 25s 465ms/step - loss: 3.5816e-06 - val_loss: 3.9604e-04\n",
      "Epoch 87/100\n",
      "54/54 [==============================] - 25s 468ms/step - loss: 4.1300e-06 - val_loss: 6.0520e-04\n",
      "Epoch 88/100\n",
      "54/54 [==============================] - 25s 468ms/step - loss: 3.4829e-06 - val_loss: 5.3586e-04\n",
      "Epoch 89/100\n",
      "54/54 [==============================] - 25s 466ms/step - loss: 3.9030e-06 - val_loss: 4.5325e-04\n",
      "Epoch 90/100\n",
      "54/54 [==============================] - 29s 531ms/step - loss: 4.0893e-06 - val_loss: 4.5536e-04\n",
      "Epoch 91/100\n",
      "54/54 [==============================] - 28s 526ms/step - loss: 3.5186e-06 - val_loss: 2.6965e-04\n",
      "Epoch 92/100\n",
      "54/54 [==============================] - 27s 504ms/step - loss: 3.9727e-06 - val_loss: 7.4225e-04\n",
      "Epoch 93/100\n",
      "54/54 [==============================] - 29s 531ms/step - loss: 4.3514e-06 - val_loss: 0.0013\n",
      "Epoch 94/100\n",
      "54/54 [==============================] - 29s 545ms/step - loss: 3.5696e-06 - val_loss: 0.0011\n",
      "Epoch 95/100\n",
      "54/54 [==============================] - 38s 702ms/step - loss: 4.3448e-06 - val_loss: 3.9363e-04\n",
      "Epoch 96/100\n",
      "54/54 [==============================] - 34s 631ms/step - loss: 4.0226e-06 - val_loss: 4.2296e-04\n",
      "Epoch 97/100\n",
      "54/54 [==============================] - 32s 590ms/step - loss: 3.3538e-06 - val_loss: 6.7519e-04\n",
      "Epoch 98/100\n",
      "54/54 [==============================] - 32s 586ms/step - loss: 4.0266e-06 - val_loss: 6.6621e-04\n",
      "Epoch 99/100\n",
      "54/54 [==============================] - 37s 696ms/step - loss: 3.6405e-06 - val_loss: 5.3479e-04\n",
      "Epoch 100/100\n",
      "54/54 [==============================] - 30s 560ms/step - loss: 4.1521e-06 - val_loss: 5.9729e-04\n"
     ]
    },
    {
     "data": {
      "text/plain": [
       "<tensorflow.python.keras.callbacks.History at 0x1c72b74ccd0>"
      ]
     },
     "execution_count": 19,
     "metadata": {},
     "output_type": "execute_result"
    }
   ],
   "source": [
    "model.fit(x_train, y_train, validation_data=(x_test, y_test), epochs=100, batch_size=64, verbose=1)"
   ]
  },
  {
   "cell_type": "code",
   "execution_count": 20,
   "id": "91b756c1",
   "metadata": {},
   "outputs": [
    {
     "data": {
      "text/plain": [
       "'2.10.0'"
      ]
     },
     "execution_count": 20,
     "metadata": {},
     "output_type": "execute_result"
    }
   ],
   "source": [
    "tf.__version__"
   ]
  },
  {
   "cell_type": "markdown",
   "id": "b2e48b7a",
   "metadata": {},
   "source": [
    "#### Making predictions and checking performance metrics"
   ]
  },
  {
   "cell_type": "code",
   "execution_count": 21,
   "id": "1568ef34",
   "metadata": {},
   "outputs": [],
   "source": [
    "train_predict = model.predict(x_train)\n",
    "test_predict = model.predict(x_test)"
   ]
  },
  {
   "cell_type": "markdown",
   "id": "e1dca838",
   "metadata": {},
   "source": [
    "#### Transforming to original form"
   ]
  },
  {
   "cell_type": "code",
   "execution_count": 22,
   "id": "02b5d42c",
   "metadata": {},
   "outputs": [],
   "source": [
    "train_predict = scaler.inverse_transform(train_predict)\n",
    "test_predict = scaler.inverse_transform(test_predict)"
   ]
  },
  {
   "cell_type": "markdown",
   "id": "ece91a43",
   "metadata": {},
   "source": [
    "#### Calculating RMSE performance metrices"
   ]
  },
  {
   "cell_type": "code",
   "execution_count": 23,
   "id": "021caf22",
   "metadata": {},
   "outputs": [
    {
     "data": {
      "text/plain": [
       "37.02074267318276"
      ]
     },
     "execution_count": 23,
     "metadata": {},
     "output_type": "execute_result"
    }
   ],
   "source": [
    "math.sqrt(mean_squared_error(y_train, train_predict))"
   ]
  },
  {
   "cell_type": "code",
   "execution_count": 24,
   "id": "63cc0a49",
   "metadata": {},
   "outputs": [
    {
     "data": {
      "text/plain": [
       "368.494078652177"
      ]
     },
     "execution_count": 24,
     "metadata": {},
     "output_type": "execute_result"
    }
   ],
   "source": [
    "math.sqrt(mean_squared_error(y_test, test_predict))"
   ]
  },
  {
   "cell_type": "markdown",
   "id": "666dd297",
   "metadata": {},
   "source": [
    "### Plotting the Graph"
   ]
  },
  {
   "cell_type": "code",
   "execution_count": 25,
   "id": "15b0eda4",
   "metadata": {},
   "outputs": [
    {
     "data": {
      "image/png": "[encoded data removed]",
      "text/plain": [
       "<Figure size 640x480 with 1 Axes>"
      ]
     },
     "metadata": {},
     "output_type": "display_data"
    }
   ],
   "source": [
    "look_back=100\n",
    "trainPredictPlot = np.empty_like(nflx1)\n",
    "trainPredictPlot[:, :] = np.nan\n",
    "trainPredictPlot[look_back:len(train_predict)+look_back, :] = train_predict\n",
    "\n",
    "testPredictPlot = np.empty_like(nflx1)\n",
    "testPredictPlot[:, :] = np.nan\n",
    "testPredictPlot[len(train_predict)+(look_back*2)+1:len(nflx1)-1, :] = test_predict\n",
    "\n",
    "plt.plot(scaler.inverse_transform(nflx1))\n",
    "plt.plot(trainPredictPlot)\n",
    "plt.plot(testPredictPlot)\n",
    "plt.show()"
   ]
  },
  {
   "cell_type": "code",
   "execution_count": 26,
   "id": "6040d6b6",
   "metadata": {},
   "outputs": [
    {
     "data": {
      "text/plain": [
       "1514"
      ]
     },
     "execution_count": 26,
     "metadata": {},
     "output_type": "execute_result"
    }
   ],
   "source": [
    "len(test_data)"
   ]
  },
  {
   "cell_type": "code",
   "execution_count": 27,
   "id": "32f8b067",
   "metadata": {},
   "outputs": [
    {
     "data": {
      "text/plain": [
       "(1, 100)"
      ]
     },
     "execution_count": 27,
     "metadata": {},
     "output_type": "execute_result"
    }
   ],
   "source": [
    "x_input = test_data[1414:].reshape(1,-1)\n",
    "x_input.shape"
   ]
  },
  {
   "cell_type": "code",
   "execution_count": 28,
   "id": "13574d10",
   "metadata": {},
   "outputs": [
    {
     "data": {
      "text/plain": [
       "[0.781793383700906,\n",
       " 0.7765569216426708,\n",
       " 0.7504907968107748,\n",
       " 0.7598786588751534,\n",
       " 0.7383400436278778,\n",
       " 0.7456594006503339,\n",
       " 0.7346514500229846,\n",
       " 0.5744500130978235,\n",
       " 0.559478583451015,\n",
       " 0.5294923735762403,\n",
       " 0.5197717973564795,\n",
       " 0.5588276781418461,\n",
       " 0.5554427960845668,\n",
       " 0.6173247128132485,\n",
       " 0.6607056563019277,\n",
       " 0.6207095500285906,\n",
       " 0.586166786012518,\n",
       " 0.5927773655895658,\n",
       " 0.581103986651452,\n",
       " 0.5831724916933745,\n",
       " 0.596711886843194,\n",
       " 0.5871359258708967,\n",
       " 0.5654960879062242,\n",
       " 0.5731047651074818,\n",
       " 0.5888572805466873,\n",
       " 0.575288972472974,\n",
       " 0.5587842841652653,\n",
       " 0.5654671735358161,\n",
       " 0.54534615657478,\n",
       " 0.5309967164202183,\n",
       " 0.5636445513006912,\n",
       " 0.5647583512484706,\n",
       " 0.5701393851587464,\n",
       " 0.5581622498310813,\n",
       " 0.549179410269074,\n",
       " 0.5318791131673726,\n",
       " 0.5227082195393836,\n",
       " 0.5061167013296046,\n",
       " 0.49382133145273,\n",
       " 0.51845546518306,\n",
       " 0.5155334777643913,\n",
       " 0.4917383468046347,\n",
       " 0.4782713048437414,\n",
       " 0.49669988005288074,\n",
       " 0.5166328429479351,\n",
       " 0.5366959863262177,\n",
       " 0.5500039334334749,\n",
       " 0.5413103692083319,\n",
       " 0.5533598562784088,\n",
       " 0.541165709118931,\n",
       " 0.5429304577713026,\n",
       " 0.5402399632371333,\n",
       " 0.5469807247439233,\n",
       " 0.5662338231174635,\n",
       " 0.5512623934706551,\n",
       " 0.5413103692083319,\n",
       " 0.5396902806453613,\n",
       " 0.5657709284788531,\n",
       " 0.5493529847288828,\n",
       " 0.5322841356697438,\n",
       " 0.5233157308719718,\n",
       " 0.5142461033568029,\n",
       " 0.502847564991318,\n",
       " 0.497206168668072,\n",
       " 0.5063625841364023,\n",
       " 0.4929100203351675,\n",
       " 0.4881798902875466,\n",
       " 0.5037299168965351,\n",
       " 0.32664768497821645,\n",
       " 0.31511896612950335,\n",
       " 0.31121338239050905,\n",
       " 0.30309843827177174,\n",
       " 0.28644904647923924,\n",
       " 0.27218641597555054,\n",
       " 0.2880691567399214,\n",
       " 0.2748190832154177,\n",
       " 0.287982370233274,\n",
       " 0.2885754236574011,\n",
       " 0.29456399204449063,\n",
       " 0.2718682031240524,\n",
       " 0.26123631578672907,\n",
       " 0.2498522570274168,\n",
       " 0.25644835844480607,\n",
       " 0.24011720120148325,\n",
       " 0.2516025275201297,\n",
       " 0.27088456196178956,\n",
       " 0.26924999523916043,\n",
       " 0.27510838169650775,\n",
       " 0.2557684939232919,\n",
       " 0.2648670589530945,\n",
       " 0.2690185688943097,\n",
       " 0.27059526348069957,\n",
       " 0.2603250046691667,\n",
       " 0.27115940398093263,\n",
       " 0.27632344775710715,\n",
       " 0.2818057477802029,\n",
       " 0.2850604045123168,\n",
       " 0.2785076985180224,\n",
       " 0.29612622872241945,\n",
       " 0.28728802755210125]"
      ]
     },
     "execution_count": 28,
     "metadata": {},
     "output_type": "execute_result"
    }
   ],
   "source": [
    "temp_input = list(x_input)\n",
    "temp_input = temp_input[0].tolist()\n",
    "temp_input"
   ]
  },
  {
   "cell_type": "markdown",
   "id": "a53ccfdf",
   "metadata": {},
   "source": [
    "#### Predicting for next 30 days"
   ]
  },
  {
   "cell_type": "code",
   "execution_count": 29,
   "id": "47516c2d",
   "metadata": {},
   "outputs": [
    {
     "name": "stdout",
     "output_type": "stream",
     "text": [
      "[0.28528935]\n",
      "101\n",
      "1 day input [0.77655692 0.7504908  0.75987866 0.73834004 0.7456594  0.73465145\n",
      " 0.57445001 0.55947858 0.52949237 0.5197718  0.55882768 0.5554428\n",
      " 0.61732471 0.66070566 0.62070955 0.58616679 0.59277737 0.58110399\n",
      " 0.58317249 0.59671189 0.58713593 0.56549609 0.57310477 0.58885728\n",
      " 0.57528897 0.55878428 0.56546717 0.54534616 0.53099672 0.56364455\n",
      " 0.56475835 0.57013939 0.55816225 0.54917941 0.53187911 0.52270822\n",
      " 0.5061167  0.49382133 0.51845547 0.51553348 0.49173835 0.4782713\n",
      " 0.49669988 0.51663284 0.53669599 0.55000393 0.54131037 0.55335986\n",
      " 0.54116571 0.54293046 0.54023996 0.54698072 0.56623382 0.55126239\n",
      " 0.54131037 0.53969028 0.56577093 0.54935298 0.53228414 0.52331573\n",
      " 0.5142461  0.50284756 0.49720617 0.50636258 0.49291002 0.48817989\n",
      " 0.50372992 0.32664768 0.31511897 0.31121338 0.30309844 0.28644905\n",
      " 0.27218642 0.28806916 0.27481908 0.28798237 0.28857542 0.29456399\n",
      " 0.2718682  0.26123632 0.24985226 0.25644836 0.2401172  0.25160253\n",
      " 0.27088456 0.26925    0.27510838 0.25576849 0.26486706 0.26901857\n",
      " 0.27059526 0.260325   0.2711594  0.27632345 0.28180575 0.2850604\n",
      " 0.2785077  0.29612623 0.28728803 0.28528935]\n",
      "1 day output [[0.28124958]]\n",
      "2 day input [0.7504908  0.75987866 0.73834004 0.7456594  0.73465145 0.57445001\n",
      " 0.55947858 0.52949237 0.5197718  0.55882768 0.5554428  0.61732471\n",
      " 0.66070566 0.62070955 0.58616679 0.59277737 0.58110399 0.58317249\n",
      " 0.59671189 0.58713593 0.56549609 0.57310477 0.58885728 0.57528897\n",
      " 0.55878428 0.56546717 0.54534616 0.53099672 0.56364455 0.56475835\n",
      " 0.57013939 0.55816225 0.54917941 0.53187911 0.52270822 0.5061167\n",
      " 0.49382133 0.51845547 0.51553348 0.49173835 0.4782713  0.49669988\n",
      " 0.51663284 0.53669599 0.55000393 0.54131037 0.55335986 0.54116571\n",
      " 0.54293046 0.54023996 0.54698072 0.56623382 0.55126239 0.54131037\n",
      " 0.53969028 0.56577093 0.54935298 0.53228414 0.52331573 0.5142461\n",
      " 0.50284756 0.49720617 0.50636258 0.49291002 0.48817989 0.50372992\n",
      " 0.32664768 0.31511897 0.31121338 0.30309844 0.28644905 0.27218642\n",
      " 0.28806916 0.27481908 0.28798237 0.28857542 0.29456399 0.2718682\n",
      " 0.26123632 0.24985226 0.25644836 0.2401172  0.25160253 0.27088456\n",
      " 0.26925    0.27510838 0.25576849 0.26486706 0.26901857 0.27059526\n",
      " 0.260325   0.2711594  0.27632345 0.28180575 0.2850604  0.2785077\n",
      " 0.29612623 0.28728803 0.28528935 0.28124958]\n",
      "2 day output [[0.27734238]]\n",
      "3 day input [0.75987866 0.73834004 0.7456594  0.73465145 0.57445001 0.55947858\n",
      " 0.52949237 0.5197718  0.55882768 0.5554428  0.61732471 0.66070566\n",
      " 0.62070955 0.58616679 0.59277737 0.58110399 0.58317249 0.59671189\n",
      " 0.58713593 0.56549609 0.57310477 0.58885728 0.57528897 0.55878428\n",
      " 0.56546717 0.54534616 0.53099672 0.56364455 0.56475835 0.57013939\n",
      " 0.55816225 0.54917941 0.53187911 0.52270822 0.5061167  0.49382133\n",
      " 0.51845547 0.51553348 0.49173835 0.4782713  0.49669988 0.51663284\n",
      " 0.53669599 0.55000393 0.54131037 0.55335986 0.54116571 0.54293046\n",
      " 0.54023996 0.54698072 0.56623382 0.55126239 0.54131037 0.53969028\n",
      " 0.56577093 0.54935298 0.53228414 0.52331573 0.5142461  0.50284756\n",
      " 0.49720617 0.50636258 0.49291002 0.48817989 0.50372992 0.32664768\n",
      " 0.31511897 0.31121338 0.30309844 0.28644905 0.27218642 0.28806916\n",
      " 0.27481908 0.28798237 0.28857542 0.29456399 0.2718682  0.26123632\n",
      " 0.24985226 0.25644836 0.2401172  0.25160253 0.27088456 0.26925\n",
      " 0.27510838 0.25576849 0.26486706 0.26901857 0.27059526 0.260325\n",
      " 0.2711594  0.27632345 0.28180575 0.2850604  0.2785077  0.29612623\n",
      " 0.28728803 0.28528935 0.28124958 0.27734238]\n",
      "3 day output [[0.27375844]]\n",
      "4 day input [0.73834004 0.7456594  0.73465145 0.57445001 0.55947858 0.52949237\n",
      " 0.5197718  0.55882768 0.5554428  0.61732471 0.66070566 0.62070955\n",
      " 0.58616679 0.59277737 0.58110399 0.58317249 0.59671189 0.58713593\n",
      " 0.56549609 0.57310477 0.58885728 0.57528897 0.55878428 0.56546717\n",
      " 0.54534616 0.53099672 0.56364455 0.56475835 0.57013939 0.55816225\n",
      " 0.54917941 0.53187911 0.52270822 0.5061167  0.49382133 0.51845547\n",
      " 0.51553348 0.49173835 0.4782713  0.49669988 0.51663284 0.53669599\n",
      " 0.55000393 0.54131037 0.55335986 0.54116571 0.54293046 0.54023996\n",
      " 0.54698072 0.56623382 0.55126239 0.54131037 0.53969028 0.56577093\n",
      " 0.54935298 0.53228414 0.52331573 0.5142461  0.50284756 0.49720617\n",
      " 0.50636258 0.49291002 0.48817989 0.50372992 0.32664768 0.31511897\n",
      " 0.31121338 0.30309844 0.28644905 0.27218642 0.28806916 0.27481908\n",
      " 0.28798237 0.28857542 0.29456399 0.2718682  0.26123632 0.24985226\n",
      " 0.25644836 0.2401172  0.25160253 0.27088456 0.26925    0.27510838\n",
      " 0.25576849 0.26486706 0.26901857 0.27059526 0.260325   0.2711594\n",
      " 0.27632345 0.28180575 0.2850604  0.2785077  0.29612623 0.28728803\n",
      " 0.28528935 0.28124958 0.27734238 0.27375844]\n",
      "4 day output [[0.27055994]]\n",
      "5 day input [0.7456594  0.73465145 0.57445001 0.55947858 0.52949237 0.5197718\n",
      " 0.55882768 0.5554428  0.61732471 0.66070566 0.62070955 0.58616679\n",
      " 0.59277737 0.58110399 0.58317249 0.59671189 0.58713593 0.56549609\n",
      " 0.57310477 0.58885728 0.57528897 0.55878428 0.56546717 0.54534616\n",
      " 0.53099672 0.56364455 0.56475835 0.57013939 0.55816225 0.54917941\n",
      " 0.53187911 0.52270822 0.5061167  0.49382133 0.51845547 0.51553348\n",
      " 0.49173835 0.4782713  0.49669988 0.51663284 0.53669599 0.55000393\n",
      " 0.54131037 0.55335986 0.54116571 0.54293046 0.54023996 0.54698072\n",
      " 0.56623382 0.55126239 0.54131037 0.53969028 0.56577093 0.54935298\n",
      " 0.53228414 0.52331573 0.5142461  0.50284756 0.49720617 0.50636258\n",
      " 0.49291002 0.48817989 0.50372992 0.32664768 0.31511897 0.31121338\n",
      " 0.30309844 0.28644905 0.27218642 0.28806916 0.27481908 0.28798237\n",
      " 0.28857542 0.29456399 0.2718682  0.26123632 0.24985226 0.25644836\n",
      " 0.2401172  0.25160253 0.27088456 0.26925    0.27510838 0.25576849\n",
      " 0.26486706 0.26901857 0.27059526 0.260325   0.2711594  0.27632345\n",
      " 0.28180575 0.2850604  0.2785077  0.29612623 0.28728803 0.28528935\n",
      " 0.28124958 0.27734238 0.27375844 0.27055994]\n",
      "5 day output [[0.26765388]]\n",
      "6 day input [0.73465145 0.57445001 0.55947858 0.52949237 0.5197718  0.55882768\n",
      " 0.5554428  0.61732471 0.66070566 0.62070955 0.58616679 0.59277737\n",
      " 0.58110399 0.58317249 0.59671189 0.58713593 0.56549609 0.57310477\n",
      " 0.58885728 0.57528897 0.55878428 0.56546717 0.54534616 0.53099672\n",
      " 0.56364455 0.56475835 0.57013939 0.55816225 0.54917941 0.53187911\n",
      " 0.52270822 0.5061167  0.49382133 0.51845547 0.51553348 0.49173835\n",
      " 0.4782713  0.49669988 0.51663284 0.53669599 0.55000393 0.54131037\n",
      " 0.55335986 0.54116571 0.54293046 0.54023996 0.54698072 0.56623382\n",
      " 0.55126239 0.54131037 0.53969028 0.56577093 0.54935298 0.53228414\n",
      " 0.52331573 0.5142461  0.50284756 0.49720617 0.50636258 0.49291002\n",
      " 0.48817989 0.50372992 0.32664768 0.31511897 0.31121338 0.30309844\n",
      " 0.28644905 0.27218642 0.28806916 0.27481908 0.28798237 0.28857542\n",
      " 0.29456399 0.2718682  0.26123632 0.24985226 0.25644836 0.2401172\n",
      " 0.25160253 0.27088456 0.26925    0.27510838 0.25576849 0.26486706\n",
      " 0.26901857 0.27059526 0.260325   0.2711594  0.27632345 0.28180575\n",
      " 0.2850604  0.2785077  0.29612623 0.28728803 0.28528935 0.28124958\n",
      " 0.27734238 0.27375844 0.27055994 0.26765388]\n",
      "6 day output [[0.26489323]]\n",
      "7 day input [0.57445001 0.55947858 0.52949237 0.5197718  0.55882768 0.5554428\n",
      " 0.61732471 0.66070566 0.62070955 0.58616679 0.59277737 0.58110399\n",
      " 0.58317249 0.59671189 0.58713593 0.56549609 0.57310477 0.58885728\n",
      " 0.57528897 0.55878428 0.56546717 0.54534616 0.53099672 0.56364455\n",
      " 0.56475835 0.57013939 0.55816225 0.54917941 0.53187911 0.52270822\n",
      " 0.5061167  0.49382133 0.51845547 0.51553348 0.49173835 0.4782713\n",
      " 0.49669988 0.51663284 0.53669599 0.55000393 0.54131037 0.55335986\n",
      " 0.54116571 0.54293046 0.54023996 0.54698072 0.56623382 0.55126239\n",
      " 0.54131037 0.53969028 0.56577093 0.54935298 0.53228414 0.52331573\n",
      " 0.5142461  0.50284756 0.49720617 0.50636258 0.49291002 0.48817989\n",
      " 0.50372992 0.32664768 0.31511897 0.31121338 0.30309844 0.28644905\n",
      " 0.27218642 0.28806916 0.27481908 0.28798237 0.28857542 0.29456399\n",
      " 0.2718682  0.26123632 0.24985226 0.25644836 0.2401172  0.25160253\n",
      " 0.27088456 0.26925    0.27510838 0.25576849 0.26486706 0.26901857\n",
      " 0.27059526 0.260325   0.2711594  0.27632345 0.28180575 0.2850604\n",
      " 0.2785077  0.29612623 0.28728803 0.28528935 0.28124958 0.27734238\n",
      " 0.27375844 0.27055994 0.26765388 0.26489323]\n",
      "7 day output [[0.26214424]]\n",
      "8 day input [0.55947858 0.52949237 0.5197718  0.55882768 0.5554428  0.61732471\n",
      " 0.66070566 0.62070955 0.58616679 0.59277737 0.58110399 0.58317249\n",
      " 0.59671189 0.58713593 0.56549609 0.57310477 0.58885728 0.57528897\n",
      " 0.55878428 0.56546717 0.54534616 0.53099672 0.56364455 0.56475835\n",
      " 0.57013939 0.55816225 0.54917941 0.53187911 0.52270822 0.5061167\n",
      " 0.49382133 0.51845547 0.51553348 0.49173835 0.4782713  0.49669988\n",
      " 0.51663284 0.53669599 0.55000393 0.54131037 0.55335986 0.54116571\n",
      " 0.54293046 0.54023996 0.54698072 0.56623382 0.55126239 0.54131037\n",
      " 0.53969028 0.56577093 0.54935298 0.53228414 0.52331573 0.5142461\n",
      " 0.50284756 0.49720617 0.50636258 0.49291002 0.48817989 0.50372992\n",
      " 0.32664768 0.31511897 0.31121338 0.30309844 0.28644905 0.27218642\n",
      " 0.28806916 0.27481908 0.28798237 0.28857542 0.29456399 0.2718682\n",
      " 0.26123632 0.24985226 0.25644836 0.2401172  0.25160253 0.27088456\n",
      " 0.26925    0.27510838 0.25576849 0.26486706 0.26901857 0.27059526\n",
      " 0.260325   0.2711594  0.27632345 0.28180575 0.2850604  0.2785077\n",
      " 0.29612623 0.28728803 0.28528935 0.28124958 0.27734238 0.27375844\n",
      " 0.27055994 0.26765388 0.26489323 0.26214424]\n"
     ]
    },
    {
     "name": "stdout",
     "output_type": "stream",
     "text": [
      "8 day output [[0.2593209]]\n",
      "9 day input [0.52949237 0.5197718  0.55882768 0.5554428  0.61732471 0.66070566\n",
      " 0.62070955 0.58616679 0.59277737 0.58110399 0.58317249 0.59671189\n",
      " 0.58713593 0.56549609 0.57310477 0.58885728 0.57528897 0.55878428\n",
      " 0.56546717 0.54534616 0.53099672 0.56364455 0.56475835 0.57013939\n",
      " 0.55816225 0.54917941 0.53187911 0.52270822 0.5061167  0.49382133\n",
      " 0.51845547 0.51553348 0.49173835 0.4782713  0.49669988 0.51663284\n",
      " 0.53669599 0.55000393 0.54131037 0.55335986 0.54116571 0.54293046\n",
      " 0.54023996 0.54698072 0.56623382 0.55126239 0.54131037 0.53969028\n",
      " 0.56577093 0.54935298 0.53228414 0.52331573 0.5142461  0.50284756\n",
      " 0.49720617 0.50636258 0.49291002 0.48817989 0.50372992 0.32664768\n",
      " 0.31511897 0.31121338 0.30309844 0.28644905 0.27218642 0.28806916\n",
      " 0.27481908 0.28798237 0.28857542 0.29456399 0.2718682  0.26123632\n",
      " 0.24985226 0.25644836 0.2401172  0.25160253 0.27088456 0.26925\n",
      " 0.27510838 0.25576849 0.26486706 0.26901857 0.27059526 0.260325\n",
      " 0.2711594  0.27632345 0.28180575 0.2850604  0.2785077  0.29612623\n",
      " 0.28728803 0.28528935 0.28124958 0.27734238 0.27375844 0.27055994\n",
      " 0.26765388 0.26489323 0.26214424 0.25932091]\n",
      "9 day output [[0.25639105]]\n",
      "10 day input [0.5197718  0.55882768 0.5554428  0.61732471 0.66070566 0.62070955\n",
      " 0.58616679 0.59277737 0.58110399 0.58317249 0.59671189 0.58713593\n",
      " 0.56549609 0.57310477 0.58885728 0.57528897 0.55878428 0.56546717\n",
      " 0.54534616 0.53099672 0.56364455 0.56475835 0.57013939 0.55816225\n",
      " 0.54917941 0.53187911 0.52270822 0.5061167  0.49382133 0.51845547\n",
      " 0.51553348 0.49173835 0.4782713  0.49669988 0.51663284 0.53669599\n",
      " 0.55000393 0.54131037 0.55335986 0.54116571 0.54293046 0.54023996\n",
      " 0.54698072 0.56623382 0.55126239 0.54131037 0.53969028 0.56577093\n",
      " 0.54935298 0.53228414 0.52331573 0.5142461  0.50284756 0.49720617\n",
      " 0.50636258 0.49291002 0.48817989 0.50372992 0.32664768 0.31511897\n",
      " 0.31121338 0.30309844 0.28644905 0.27218642 0.28806916 0.27481908\n",
      " 0.28798237 0.28857542 0.29456399 0.2718682  0.26123632 0.24985226\n",
      " 0.25644836 0.2401172  0.25160253 0.27088456 0.26925    0.27510838\n",
      " 0.25576849 0.26486706 0.26901857 0.27059526 0.260325   0.2711594\n",
      " 0.27632345 0.28180575 0.2850604  0.2785077  0.29612623 0.28728803\n",
      " 0.28528935 0.28124958 0.27734238 0.27375844 0.27055994 0.26765388\n",
      " 0.26489323 0.26214424 0.25932091 0.25639105]\n",
      "10 day output [[0.25336576]]\n",
      "11 day input [0.55882768 0.5554428  0.61732471 0.66070566 0.62070955 0.58616679\n",
      " 0.59277737 0.58110399 0.58317249 0.59671189 0.58713593 0.56549609\n",
      " 0.57310477 0.58885728 0.57528897 0.55878428 0.56546717 0.54534616\n",
      " 0.53099672 0.56364455 0.56475835 0.57013939 0.55816225 0.54917941\n",
      " 0.53187911 0.52270822 0.5061167  0.49382133 0.51845547 0.51553348\n",
      " 0.49173835 0.4782713  0.49669988 0.51663284 0.53669599 0.55000393\n",
      " 0.54131037 0.55335986 0.54116571 0.54293046 0.54023996 0.54698072\n",
      " 0.56623382 0.55126239 0.54131037 0.53969028 0.56577093 0.54935298\n",
      " 0.53228414 0.52331573 0.5142461  0.50284756 0.49720617 0.50636258\n",
      " 0.49291002 0.48817989 0.50372992 0.32664768 0.31511897 0.31121338\n",
      " 0.30309844 0.28644905 0.27218642 0.28806916 0.27481908 0.28798237\n",
      " 0.28857542 0.29456399 0.2718682  0.26123632 0.24985226 0.25644836\n",
      " 0.2401172  0.25160253 0.27088456 0.26925    0.27510838 0.25576849\n",
      " 0.26486706 0.26901857 0.27059526 0.260325   0.2711594  0.27632345\n",
      " 0.28180575 0.2850604  0.2785077  0.29612623 0.28728803 0.28528935\n",
      " 0.28124958 0.27734238 0.27375844 0.27055994 0.26765388 0.26489323\n",
      " 0.26214424 0.25932091 0.25639105 0.25336576]\n",
      "11 day output [[0.25028187]]\n",
      "12 day input [0.5554428  0.61732471 0.66070566 0.62070955 0.58616679 0.59277737\n",
      " 0.58110399 0.58317249 0.59671189 0.58713593 0.56549609 0.57310477\n",
      " 0.58885728 0.57528897 0.55878428 0.56546717 0.54534616 0.53099672\n",
      " 0.56364455 0.56475835 0.57013939 0.55816225 0.54917941 0.53187911\n",
      " 0.52270822 0.5061167  0.49382133 0.51845547 0.51553348 0.49173835\n",
      " 0.4782713  0.49669988 0.51663284 0.53669599 0.55000393 0.54131037\n",
      " 0.55335986 0.54116571 0.54293046 0.54023996 0.54698072 0.56623382\n",
      " 0.55126239 0.54131037 0.53969028 0.56577093 0.54935298 0.53228414\n",
      " 0.52331573 0.5142461  0.50284756 0.49720617 0.50636258 0.49291002\n",
      " 0.48817989 0.50372992 0.32664768 0.31511897 0.31121338 0.30309844\n",
      " 0.28644905 0.27218642 0.28806916 0.27481908 0.28798237 0.28857542\n",
      " 0.29456399 0.2718682  0.26123632 0.24985226 0.25644836 0.2401172\n",
      " 0.25160253 0.27088456 0.26925    0.27510838 0.25576849 0.26486706\n",
      " 0.26901857 0.27059526 0.260325   0.2711594  0.27632345 0.28180575\n",
      " 0.2850604  0.2785077  0.29612623 0.28728803 0.28528935 0.28124958\n",
      " 0.27734238 0.27375844 0.27055994 0.26765388 0.26489323 0.26214424\n",
      " 0.25932091 0.25639105 0.25336576 0.25028187]\n",
      "12 day output [[0.2471845]]\n",
      "13 day input [0.61732471 0.66070566 0.62070955 0.58616679 0.59277737 0.58110399\n",
      " 0.58317249 0.59671189 0.58713593 0.56549609 0.57310477 0.58885728\n",
      " 0.57528897 0.55878428 0.56546717 0.54534616 0.53099672 0.56364455\n",
      " 0.56475835 0.57013939 0.55816225 0.54917941 0.53187911 0.52270822\n",
      " 0.5061167  0.49382133 0.51845547 0.51553348 0.49173835 0.4782713\n",
      " 0.49669988 0.51663284 0.53669599 0.55000393 0.54131037 0.55335986\n",
      " 0.54116571 0.54293046 0.54023996 0.54698072 0.56623382 0.55126239\n",
      " 0.54131037 0.53969028 0.56577093 0.54935298 0.53228414 0.52331573\n",
      " 0.5142461  0.50284756 0.49720617 0.50636258 0.49291002 0.48817989\n",
      " 0.50372992 0.32664768 0.31511897 0.31121338 0.30309844 0.28644905\n",
      " 0.27218642 0.28806916 0.27481908 0.28798237 0.28857542 0.29456399\n",
      " 0.2718682  0.26123632 0.24985226 0.25644836 0.2401172  0.25160253\n",
      " 0.27088456 0.26925    0.27510838 0.25576849 0.26486706 0.26901857\n",
      " 0.27059526 0.260325   0.2711594  0.27632345 0.28180575 0.2850604\n",
      " 0.2785077  0.29612623 0.28728803 0.28528935 0.28124958 0.27734238\n",
      " 0.27375844 0.27055994 0.26765388 0.26489323 0.26214424 0.25932091\n",
      " 0.25639105 0.25336576 0.25028187 0.2471845 ]\n",
      "13 day output [[0.24411477]]\n",
      "14 day input [0.66070566 0.62070955 0.58616679 0.59277737 0.58110399 0.58317249\n",
      " 0.59671189 0.58713593 0.56549609 0.57310477 0.58885728 0.57528897\n",
      " 0.55878428 0.56546717 0.54534616 0.53099672 0.56364455 0.56475835\n",
      " 0.57013939 0.55816225 0.54917941 0.53187911 0.52270822 0.5061167\n",
      " 0.49382133 0.51845547 0.51553348 0.49173835 0.4782713  0.49669988\n",
      " 0.51663284 0.53669599 0.55000393 0.54131037 0.55335986 0.54116571\n",
      " 0.54293046 0.54023996 0.54698072 0.56623382 0.55126239 0.54131037\n",
      " 0.53969028 0.56577093 0.54935298 0.53228414 0.52331573 0.5142461\n",
      " 0.50284756 0.49720617 0.50636258 0.49291002 0.48817989 0.50372992\n",
      " 0.32664768 0.31511897 0.31121338 0.30309844 0.28644905 0.27218642\n",
      " 0.28806916 0.27481908 0.28798237 0.28857542 0.29456399 0.2718682\n",
      " 0.26123632 0.24985226 0.25644836 0.2401172  0.25160253 0.27088456\n",
      " 0.26925    0.27510838 0.25576849 0.26486706 0.26901857 0.27059526\n",
      " 0.260325   0.2711594  0.27632345 0.28180575 0.2850604  0.2785077\n",
      " 0.29612623 0.28728803 0.28528935 0.28124958 0.27734238 0.27375844\n",
      " 0.27055994 0.26765388 0.26489323 0.26214424 0.25932091 0.25639105\n",
      " 0.25336576 0.25028187 0.2471845  0.24411477]\n",
      "14 day output [[0.24110302]]\n",
      "15 day input [0.62070955 0.58616679 0.59277737 0.58110399 0.58317249 0.59671189\n",
      " 0.58713593 0.56549609 0.57310477 0.58885728 0.57528897 0.55878428\n",
      " 0.56546717 0.54534616 0.53099672 0.56364455 0.56475835 0.57013939\n",
      " 0.55816225 0.54917941 0.53187911 0.52270822 0.5061167  0.49382133\n",
      " 0.51845547 0.51553348 0.49173835 0.4782713  0.49669988 0.51663284\n",
      " 0.53669599 0.55000393 0.54131037 0.55335986 0.54116571 0.54293046\n",
      " 0.54023996 0.54698072 0.56623382 0.55126239 0.54131037 0.53969028\n",
      " 0.56577093 0.54935298 0.53228414 0.52331573 0.5142461  0.50284756\n",
      " 0.49720617 0.50636258 0.49291002 0.48817989 0.50372992 0.32664768\n",
      " 0.31511897 0.31121338 0.30309844 0.28644905 0.27218642 0.28806916\n",
      " 0.27481908 0.28798237 0.28857542 0.29456399 0.2718682  0.26123632\n",
      " 0.24985226 0.25644836 0.2401172  0.25160253 0.27088456 0.26925\n",
      " 0.27510838 0.25576849 0.26486706 0.26901857 0.27059526 0.260325\n",
      " 0.2711594  0.27632345 0.28180575 0.2850604  0.2785077  0.29612623\n",
      " 0.28728803 0.28528935 0.28124958 0.27734238 0.27375844 0.27055994\n",
      " 0.26765388 0.26489323 0.26214424 0.25932091 0.25639105 0.25336576\n",
      " 0.25028187 0.2471845  0.24411477 0.24110302]\n",
      "15 day output [[0.23816729]]\n",
      "16 day input [0.58616679 0.59277737 0.58110399 0.58317249 0.59671189 0.58713593\n",
      " 0.56549609 0.57310477 0.58885728 0.57528897 0.55878428 0.56546717\n",
      " 0.54534616 0.53099672 0.56364455 0.56475835 0.57013939 0.55816225\n",
      " 0.54917941 0.53187911 0.52270822 0.5061167  0.49382133 0.51845547\n",
      " 0.51553348 0.49173835 0.4782713  0.49669988 0.51663284 0.53669599\n",
      " 0.55000393 0.54131037 0.55335986 0.54116571 0.54293046 0.54023996\n",
      " 0.54698072 0.56623382 0.55126239 0.54131037 0.53969028 0.56577093\n",
      " 0.54935298 0.53228414 0.52331573 0.5142461  0.50284756 0.49720617\n",
      " 0.50636258 0.49291002 0.48817989 0.50372992 0.32664768 0.31511897\n",
      " 0.31121338 0.30309844 0.28644905 0.27218642 0.28806916 0.27481908\n",
      " 0.28798237 0.28857542 0.29456399 0.2718682  0.26123632 0.24985226\n",
      " 0.25644836 0.2401172  0.25160253 0.27088456 0.26925    0.27510838\n",
      " 0.25576849 0.26486706 0.26901857 0.27059526 0.260325   0.2711594\n",
      " 0.27632345 0.28180575 0.2850604  0.2785077  0.29612623 0.28728803\n",
      " 0.28528935 0.28124958 0.27734238 0.27375844 0.27055994 0.26765388\n",
      " 0.26489323 0.26214424 0.25932091 0.25639105 0.25336576 0.25028187\n",
      " 0.2471845  0.24411477 0.24110302 0.23816729]\n"
     ]
    },
    {
     "name": "stdout",
     "output_type": "stream",
     "text": [
      "16 day output [[0.23531511]]\n",
      "17 day input [0.59277737 0.58110399 0.58317249 0.59671189 0.58713593 0.56549609\n",
      " 0.57310477 0.58885728 0.57528897 0.55878428 0.56546717 0.54534616\n",
      " 0.53099672 0.56364455 0.56475835 0.57013939 0.55816225 0.54917941\n",
      " 0.53187911 0.52270822 0.5061167  0.49382133 0.51845547 0.51553348\n",
      " 0.49173835 0.4782713  0.49669988 0.51663284 0.53669599 0.55000393\n",
      " 0.54131037 0.55335986 0.54116571 0.54293046 0.54023996 0.54698072\n",
      " 0.56623382 0.55126239 0.54131037 0.53969028 0.56577093 0.54935298\n",
      " 0.53228414 0.52331573 0.5142461  0.50284756 0.49720617 0.50636258\n",
      " 0.49291002 0.48817989 0.50372992 0.32664768 0.31511897 0.31121338\n",
      " 0.30309844 0.28644905 0.27218642 0.28806916 0.27481908 0.28798237\n",
      " 0.28857542 0.29456399 0.2718682  0.26123632 0.24985226 0.25644836\n",
      " 0.2401172  0.25160253 0.27088456 0.26925    0.27510838 0.25576849\n",
      " 0.26486706 0.26901857 0.27059526 0.260325   0.2711594  0.27632345\n",
      " 0.28180575 0.2850604  0.2785077  0.29612623 0.28728803 0.28528935\n",
      " 0.28124958 0.27734238 0.27375844 0.27055994 0.26765388 0.26489323\n",
      " 0.26214424 0.25932091 0.25639105 0.25336576 0.25028187 0.2471845\n",
      " 0.24411477 0.24110302 0.23816729 0.23531511]\n",
      "17 day output [[0.23254673]]\n",
      "18 day input [0.58110399 0.58317249 0.59671189 0.58713593 0.56549609 0.57310477\n",
      " 0.58885728 0.57528897 0.55878428 0.56546717 0.54534616 0.53099672\n",
      " 0.56364455 0.56475835 0.57013939 0.55816225 0.54917941 0.53187911\n",
      " 0.52270822 0.5061167  0.49382133 0.51845547 0.51553348 0.49173835\n",
      " 0.4782713  0.49669988 0.51663284 0.53669599 0.55000393 0.54131037\n",
      " 0.55335986 0.54116571 0.54293046 0.54023996 0.54698072 0.56623382\n",
      " 0.55126239 0.54131037 0.53969028 0.56577093 0.54935298 0.53228414\n",
      " 0.52331573 0.5142461  0.50284756 0.49720617 0.50636258 0.49291002\n",
      " 0.48817989 0.50372992 0.32664768 0.31511897 0.31121338 0.30309844\n",
      " 0.28644905 0.27218642 0.28806916 0.27481908 0.28798237 0.28857542\n",
      " 0.29456399 0.2718682  0.26123632 0.24985226 0.25644836 0.2401172\n",
      " 0.25160253 0.27088456 0.26925    0.27510838 0.25576849 0.26486706\n",
      " 0.26901857 0.27059526 0.260325   0.2711594  0.27632345 0.28180575\n",
      " 0.2850604  0.2785077  0.29612623 0.28728803 0.28528935 0.28124958\n",
      " 0.27734238 0.27375844 0.27055994 0.26765388 0.26489323 0.26214424\n",
      " 0.25932091 0.25639105 0.25336576 0.25028187 0.2471845  0.24411477\n",
      " 0.24110302 0.23816729 0.23531511 0.23254673]\n",
      "18 day output [[0.22985846]]\n",
      "19 day input [0.58317249 0.59671189 0.58713593 0.56549609 0.57310477 0.58885728\n",
      " 0.57528897 0.55878428 0.56546717 0.54534616 0.53099672 0.56364455\n",
      " 0.56475835 0.57013939 0.55816225 0.54917941 0.53187911 0.52270822\n",
      " 0.5061167  0.49382133 0.51845547 0.51553348 0.49173835 0.4782713\n",
      " 0.49669988 0.51663284 0.53669599 0.55000393 0.54131037 0.55335986\n",
      " 0.54116571 0.54293046 0.54023996 0.54698072 0.56623382 0.55126239\n",
      " 0.54131037 0.53969028 0.56577093 0.54935298 0.53228414 0.52331573\n",
      " 0.5142461  0.50284756 0.49720617 0.50636258 0.49291002 0.48817989\n",
      " 0.50372992 0.32664768 0.31511897 0.31121338 0.30309844 0.28644905\n",
      " 0.27218642 0.28806916 0.27481908 0.28798237 0.28857542 0.29456399\n",
      " 0.2718682  0.26123632 0.24985226 0.25644836 0.2401172  0.25160253\n",
      " 0.27088456 0.26925    0.27510838 0.25576849 0.26486706 0.26901857\n",
      " 0.27059526 0.260325   0.2711594  0.27632345 0.28180575 0.2850604\n",
      " 0.2785077  0.29612623 0.28728803 0.28528935 0.28124958 0.27734238\n",
      " 0.27375844 0.27055994 0.26765388 0.26489323 0.26214424 0.25932091\n",
      " 0.25639105 0.25336576 0.25028187 0.2471845  0.24411477 0.24110302\n",
      " 0.23816729 0.23531511 0.23254673 0.22985846]\n",
      "19 day output [[0.22724542]]\n",
      "20 day input [0.59671189 0.58713593 0.56549609 0.57310477 0.58885728 0.57528897\n",
      " 0.55878428 0.56546717 0.54534616 0.53099672 0.56364455 0.56475835\n",
      " 0.57013939 0.55816225 0.54917941 0.53187911 0.52270822 0.5061167\n",
      " 0.49382133 0.51845547 0.51553348 0.49173835 0.4782713  0.49669988\n",
      " 0.51663284 0.53669599 0.55000393 0.54131037 0.55335986 0.54116571\n",
      " 0.54293046 0.54023996 0.54698072 0.56623382 0.55126239 0.54131037\n",
      " 0.53969028 0.56577093 0.54935298 0.53228414 0.52331573 0.5142461\n",
      " 0.50284756 0.49720617 0.50636258 0.49291002 0.48817989 0.50372992\n",
      " 0.32664768 0.31511897 0.31121338 0.30309844 0.28644905 0.27218642\n",
      " 0.28806916 0.27481908 0.28798237 0.28857542 0.29456399 0.2718682\n",
      " 0.26123632 0.24985226 0.25644836 0.2401172  0.25160253 0.27088456\n",
      " 0.26925    0.27510838 0.25576849 0.26486706 0.26901857 0.27059526\n",
      " 0.260325   0.2711594  0.27632345 0.28180575 0.2850604  0.2785077\n",
      " 0.29612623 0.28728803 0.28528935 0.28124958 0.27734238 0.27375844\n",
      " 0.27055994 0.26765388 0.26489323 0.26214424 0.25932091 0.25639105\n",
      " 0.25336576 0.25028187 0.2471845  0.24411477 0.24110302 0.23816729\n",
      " 0.23531511 0.23254673 0.22985846 0.22724542]\n",
      "20 day output [[0.22470318]]\n",
      "21 day input [0.58713593 0.56549609 0.57310477 0.58885728 0.57528897 0.55878428\n",
      " 0.56546717 0.54534616 0.53099672 0.56364455 0.56475835 0.57013939\n",
      " 0.55816225 0.54917941 0.53187911 0.52270822 0.5061167  0.49382133\n",
      " 0.51845547 0.51553348 0.49173835 0.4782713  0.49669988 0.51663284\n",
      " 0.53669599 0.55000393 0.54131037 0.55335986 0.54116571 0.54293046\n",
      " 0.54023996 0.54698072 0.56623382 0.55126239 0.54131037 0.53969028\n",
      " 0.56577093 0.54935298 0.53228414 0.52331573 0.5142461  0.50284756\n",
      " 0.49720617 0.50636258 0.49291002 0.48817989 0.50372992 0.32664768\n",
      " 0.31511897 0.31121338 0.30309844 0.28644905 0.27218642 0.28806916\n",
      " 0.27481908 0.28798237 0.28857542 0.29456399 0.2718682  0.26123632\n",
      " 0.24985226 0.25644836 0.2401172  0.25160253 0.27088456 0.26925\n",
      " 0.27510838 0.25576849 0.26486706 0.26901857 0.27059526 0.260325\n",
      " 0.2711594  0.27632345 0.28180575 0.2850604  0.2785077  0.29612623\n",
      " 0.28728803 0.28528935 0.28124958 0.27734238 0.27375844 0.27055994\n",
      " 0.26765388 0.26489323 0.26214424 0.25932091 0.25639105 0.25336576\n",
      " 0.25028187 0.2471845  0.24411477 0.24110302 0.23816729 0.23531511\n",
      " 0.23254673 0.22985846 0.22724542 0.22470318]\n",
      "21 day output [[0.22222814]]\n",
      "22 day input [0.56549609 0.57310477 0.58885728 0.57528897 0.55878428 0.56546717\n",
      " 0.54534616 0.53099672 0.56364455 0.56475835 0.57013939 0.55816225\n",
      " 0.54917941 0.53187911 0.52270822 0.5061167  0.49382133 0.51845547\n",
      " 0.51553348 0.49173835 0.4782713  0.49669988 0.51663284 0.53669599\n",
      " 0.55000393 0.54131037 0.55335986 0.54116571 0.54293046 0.54023996\n",
      " 0.54698072 0.56623382 0.55126239 0.54131037 0.53969028 0.56577093\n",
      " 0.54935298 0.53228414 0.52331573 0.5142461  0.50284756 0.49720617\n",
      " 0.50636258 0.49291002 0.48817989 0.50372992 0.32664768 0.31511897\n",
      " 0.31121338 0.30309844 0.28644905 0.27218642 0.28806916 0.27481908\n",
      " 0.28798237 0.28857542 0.29456399 0.2718682  0.26123632 0.24985226\n",
      " 0.25644836 0.2401172  0.25160253 0.27088456 0.26925    0.27510838\n",
      " 0.25576849 0.26486706 0.26901857 0.27059526 0.260325   0.2711594\n",
      " 0.27632345 0.28180575 0.2850604  0.2785077  0.29612623 0.28728803\n",
      " 0.28528935 0.28124958 0.27734238 0.27375844 0.27055994 0.26765388\n",
      " 0.26489323 0.26214424 0.25932091 0.25639105 0.25336576 0.25028187\n",
      " 0.2471845  0.24411477 0.24110302 0.23816729 0.23531511 0.23254673\n",
      " 0.22985846 0.22724542 0.22470318 0.22222814]\n",
      "22 day output [[0.21981804]]\n",
      "23 day input [0.57310477 0.58885728 0.57528897 0.55878428 0.56546717 0.54534616\n",
      " 0.53099672 0.56364455 0.56475835 0.57013939 0.55816225 0.54917941\n",
      " 0.53187911 0.52270822 0.5061167  0.49382133 0.51845547 0.51553348\n",
      " 0.49173835 0.4782713  0.49669988 0.51663284 0.53669599 0.55000393\n",
      " 0.54131037 0.55335986 0.54116571 0.54293046 0.54023996 0.54698072\n",
      " 0.56623382 0.55126239 0.54131037 0.53969028 0.56577093 0.54935298\n",
      " 0.53228414 0.52331573 0.5142461  0.50284756 0.49720617 0.50636258\n",
      " 0.49291002 0.48817989 0.50372992 0.32664768 0.31511897 0.31121338\n",
      " 0.30309844 0.28644905 0.27218642 0.28806916 0.27481908 0.28798237\n",
      " 0.28857542 0.29456399 0.2718682  0.26123632 0.24985226 0.25644836\n",
      " 0.2401172  0.25160253 0.27088456 0.26925    0.27510838 0.25576849\n",
      " 0.26486706 0.26901857 0.27059526 0.260325   0.2711594  0.27632345\n",
      " 0.28180575 0.2850604  0.2785077  0.29612623 0.28728803 0.28528935\n",
      " 0.28124958 0.27734238 0.27375844 0.27055994 0.26765388 0.26489323\n",
      " 0.26214424 0.25932091 0.25639105 0.25336576 0.25028187 0.2471845\n",
      " 0.24411477 0.24110302 0.23816729 0.23531511 0.23254673 0.22985846\n",
      " 0.22724542 0.22470318 0.22222814 0.21981804]\n",
      "23 day output [[0.21747121]]\n",
      "24 day input [0.58885728 0.57528897 0.55878428 0.56546717 0.54534616 0.53099672\n",
      " 0.56364455 0.56475835 0.57013939 0.55816225 0.54917941 0.53187911\n",
      " 0.52270822 0.5061167  0.49382133 0.51845547 0.51553348 0.49173835\n",
      " 0.4782713  0.49669988 0.51663284 0.53669599 0.55000393 0.54131037\n",
      " 0.55335986 0.54116571 0.54293046 0.54023996 0.54698072 0.56623382\n",
      " 0.55126239 0.54131037 0.53969028 0.56577093 0.54935298 0.53228414\n",
      " 0.52331573 0.5142461  0.50284756 0.49720617 0.50636258 0.49291002\n",
      " 0.48817989 0.50372992 0.32664768 0.31511897 0.31121338 0.30309844\n",
      " 0.28644905 0.27218642 0.28806916 0.27481908 0.28798237 0.28857542\n",
      " 0.29456399 0.2718682  0.26123632 0.24985226 0.25644836 0.2401172\n",
      " 0.25160253 0.27088456 0.26925    0.27510838 0.25576849 0.26486706\n",
      " 0.26901857 0.27059526 0.260325   0.2711594  0.27632345 0.28180575\n",
      " 0.2850604  0.2785077  0.29612623 0.28728803 0.28528935 0.28124958\n",
      " 0.27734238 0.27375844 0.27055994 0.26765388 0.26489323 0.26214424\n",
      " 0.25932091 0.25639105 0.25336576 0.25028187 0.2471845  0.24411477\n",
      " 0.24110302 0.23816729 0.23531511 0.23254673 0.22985846 0.22724542\n",
      " 0.22470318 0.22222814 0.21981804 0.21747121]\n"
     ]
    },
    {
     "name": "stdout",
     "output_type": "stream",
     "text": [
      "24 day output [[0.21518636]]\n",
      "25 day input [0.57528897 0.55878428 0.56546717 0.54534616 0.53099672 0.56364455\n",
      " 0.56475835 0.57013939 0.55816225 0.54917941 0.53187911 0.52270822\n",
      " 0.5061167  0.49382133 0.51845547 0.51553348 0.49173835 0.4782713\n",
      " 0.49669988 0.51663284 0.53669599 0.55000393 0.54131037 0.55335986\n",
      " 0.54116571 0.54293046 0.54023996 0.54698072 0.56623382 0.55126239\n",
      " 0.54131037 0.53969028 0.56577093 0.54935298 0.53228414 0.52331573\n",
      " 0.5142461  0.50284756 0.49720617 0.50636258 0.49291002 0.48817989\n",
      " 0.50372992 0.32664768 0.31511897 0.31121338 0.30309844 0.28644905\n",
      " 0.27218642 0.28806916 0.27481908 0.28798237 0.28857542 0.29456399\n",
      " 0.2718682  0.26123632 0.24985226 0.25644836 0.2401172  0.25160253\n",
      " 0.27088456 0.26925    0.27510838 0.25576849 0.26486706 0.26901857\n",
      " 0.27059526 0.260325   0.2711594  0.27632345 0.28180575 0.2850604\n",
      " 0.2785077  0.29612623 0.28728803 0.28528935 0.28124958 0.27734238\n",
      " 0.27375844 0.27055994 0.26765388 0.26489323 0.26214424 0.25932091\n",
      " 0.25639105 0.25336576 0.25028187 0.2471845  0.24411477 0.24110302\n",
      " 0.23816729 0.23531511 0.23254673 0.22985846 0.22724542 0.22470318\n",
      " 0.22222814 0.21981804 0.21747121 0.21518636]\n",
      "25 day output [[0.21296191]]\n",
      "26 day input [0.55878428 0.56546717 0.54534616 0.53099672 0.56364455 0.56475835\n",
      " 0.57013939 0.55816225 0.54917941 0.53187911 0.52270822 0.5061167\n",
      " 0.49382133 0.51845547 0.51553348 0.49173835 0.4782713  0.49669988\n",
      " 0.51663284 0.53669599 0.55000393 0.54131037 0.55335986 0.54116571\n",
      " 0.54293046 0.54023996 0.54698072 0.56623382 0.55126239 0.54131037\n",
      " 0.53969028 0.56577093 0.54935298 0.53228414 0.52331573 0.5142461\n",
      " 0.50284756 0.49720617 0.50636258 0.49291002 0.48817989 0.50372992\n",
      " 0.32664768 0.31511897 0.31121338 0.30309844 0.28644905 0.27218642\n",
      " 0.28806916 0.27481908 0.28798237 0.28857542 0.29456399 0.2718682\n",
      " 0.26123632 0.24985226 0.25644836 0.2401172  0.25160253 0.27088456\n",
      " 0.26925    0.27510838 0.25576849 0.26486706 0.26901857 0.27059526\n",
      " 0.260325   0.2711594  0.27632345 0.28180575 0.2850604  0.2785077\n",
      " 0.29612623 0.28728803 0.28528935 0.28124958 0.27734238 0.27375844\n",
      " 0.27055994 0.26765388 0.26489323 0.26214424 0.25932091 0.25639105\n",
      " 0.25336576 0.25028187 0.2471845  0.24411477 0.24110302 0.23816729\n",
      " 0.23531511 0.23254673 0.22985846 0.22724542 0.22470318 0.22222814\n",
      " 0.21981804 0.21747121 0.21518636 0.21296191]\n",
      "26 day output [[0.21079631]]\n",
      "27 day input [0.56546717 0.54534616 0.53099672 0.56364455 0.56475835 0.57013939\n",
      " 0.55816225 0.54917941 0.53187911 0.52270822 0.5061167  0.49382133\n",
      " 0.51845547 0.51553348 0.49173835 0.4782713  0.49669988 0.51663284\n",
      " 0.53669599 0.55000393 0.54131037 0.55335986 0.54116571 0.54293046\n",
      " 0.54023996 0.54698072 0.56623382 0.55126239 0.54131037 0.53969028\n",
      " 0.56577093 0.54935298 0.53228414 0.52331573 0.5142461  0.50284756\n",
      " 0.49720617 0.50636258 0.49291002 0.48817989 0.50372992 0.32664768\n",
      " 0.31511897 0.31121338 0.30309844 0.28644905 0.27218642 0.28806916\n",
      " 0.27481908 0.28798237 0.28857542 0.29456399 0.2718682  0.26123632\n",
      " 0.24985226 0.25644836 0.2401172  0.25160253 0.27088456 0.26925\n",
      " 0.27510838 0.25576849 0.26486706 0.26901857 0.27059526 0.260325\n",
      " 0.2711594  0.27632345 0.28180575 0.2850604  0.2785077  0.29612623\n",
      " 0.28728803 0.28528935 0.28124958 0.27734238 0.27375844 0.27055994\n",
      " 0.26765388 0.26489323 0.26214424 0.25932091 0.25639105 0.25336576\n",
      " 0.25028187 0.2471845  0.24411477 0.24110302 0.23816729 0.23531511\n",
      " 0.23254673 0.22985846 0.22724542 0.22470318 0.22222814 0.21981804\n",
      " 0.21747121 0.21518636 0.21296191 0.21079631]\n",
      "27 day output [[0.20868737]]\n",
      "28 day input [0.54534616 0.53099672 0.56364455 0.56475835 0.57013939 0.55816225\n",
      " 0.54917941 0.53187911 0.52270822 0.5061167  0.49382133 0.51845547\n",
      " 0.51553348 0.49173835 0.4782713  0.49669988 0.51663284 0.53669599\n",
      " 0.55000393 0.54131037 0.55335986 0.54116571 0.54293046 0.54023996\n",
      " 0.54698072 0.56623382 0.55126239 0.54131037 0.53969028 0.56577093\n",
      " 0.54935298 0.53228414 0.52331573 0.5142461  0.50284756 0.49720617\n",
      " 0.50636258 0.49291002 0.48817989 0.50372992 0.32664768 0.31511897\n",
      " 0.31121338 0.30309844 0.28644905 0.27218642 0.28806916 0.27481908\n",
      " 0.28798237 0.28857542 0.29456399 0.2718682  0.26123632 0.24985226\n",
      " 0.25644836 0.2401172  0.25160253 0.27088456 0.26925    0.27510838\n",
      " 0.25576849 0.26486706 0.26901857 0.27059526 0.260325   0.2711594\n",
      " 0.27632345 0.28180575 0.2850604  0.2785077  0.29612623 0.28728803\n",
      " 0.28528935 0.28124958 0.27734238 0.27375844 0.27055994 0.26765388\n",
      " 0.26489323 0.26214424 0.25932091 0.25639105 0.25336576 0.25028187\n",
      " 0.2471845  0.24411477 0.24110302 0.23816729 0.23531511 0.23254673\n",
      " 0.22985846 0.22724542 0.22470318 0.22222814 0.21981804 0.21747121\n",
      " 0.21518636 0.21296191 0.21079631 0.20868737]\n",
      "28 day output [[0.20663281]]\n",
      "29 day input [0.53099672 0.56364455 0.56475835 0.57013939 0.55816225 0.54917941\n",
      " 0.53187911 0.52270822 0.5061167  0.49382133 0.51845547 0.51553348\n",
      " 0.49173835 0.4782713  0.49669988 0.51663284 0.53669599 0.55000393\n",
      " 0.54131037 0.55335986 0.54116571 0.54293046 0.54023996 0.54698072\n",
      " 0.56623382 0.55126239 0.54131037 0.53969028 0.56577093 0.54935298\n",
      " 0.53228414 0.52331573 0.5142461  0.50284756 0.49720617 0.50636258\n",
      " 0.49291002 0.48817989 0.50372992 0.32664768 0.31511897 0.31121338\n",
      " 0.30309844 0.28644905 0.27218642 0.28806916 0.27481908 0.28798237\n",
      " 0.28857542 0.29456399 0.2718682  0.26123632 0.24985226 0.25644836\n",
      " 0.2401172  0.25160253 0.27088456 0.26925    0.27510838 0.25576849\n",
      " 0.26486706 0.26901857 0.27059526 0.260325   0.2711594  0.27632345\n",
      " 0.28180575 0.2850604  0.2785077  0.29612623 0.28728803 0.28528935\n",
      " 0.28124958 0.27734238 0.27375844 0.27055994 0.26765388 0.26489323\n",
      " 0.26214424 0.25932091 0.25639105 0.25336576 0.25028187 0.2471845\n",
      " 0.24411477 0.24110302 0.23816729 0.23531511 0.23254673 0.22985846\n",
      " 0.22724542 0.22470318 0.22222814 0.21981804 0.21747121 0.21518636\n",
      " 0.21296191 0.21079631 0.20868737 0.20663281]\n",
      "29 day output [[0.2046302]]\n",
      "[[0.28528934717178345], [0.2812495827674866], [0.27734237909317017], [0.2737584412097931], [0.2705599367618561], [0.2676538825035095], [0.26489323377609253], [0.2621442377567291], [0.2593209147453308], [0.2563910484313965], [0.25336575508117676], [0.2502818703651428], [0.24718450009822845], [0.24411477148532867], [0.24110302329063416], [0.23816728591918945], [0.23531511425971985], [0.23254673182964325], [0.22985845804214478], [0.22724542021751404], [0.22470317780971527], [0.22222813963890076], [0.21981804072856903], [0.21747121214866638], [0.21518635749816895], [0.21296191215515137], [0.2107963114976883], [0.20868736505508423], [0.2066328078508377], [0.20463019609451294]]\n"
     ]
    }
   ],
   "source": [
    "output1=[]\n",
    "n_steps=100\n",
    "i=0\n",
    "while(i<30):\n",
    "    if(len(temp_input)>100):\n",
    "        x_input = np.array(temp_input[1:])\n",
    "        print(\"{} day input {}\".format(i,x_input))\n",
    "        x_input = x_input.reshape(1, -1)\n",
    "        x_input = x_input.reshape((1, n_steps, 1))\n",
    "        yhat = model.predict(x_input, verbose=0)\n",
    "        print(\"{} day output {}\".format(i,yhat))\n",
    "        temp_input.extend(yhat[0].tolist())\n",
    "        temp_input = temp_input[1:]\n",
    "        output1.extend(yhat.tolist())\n",
    "        i=i+1\n",
    "    else:\n",
    "        x_input = x_input.reshape((1, n_steps, 1))\n",
    "        yhat = model.predict(x_input, verbose=0)\n",
    "        print(yhat[0])\n",
    "        temp_input.extend(yhat[0].tolist())\n",
    "        print(len(temp_input))\n",
    "        output1.extend(yhat.tolist())\n",
    "        i=i+1\n",
    "print(output1)"
   ]
  },
  {
   "cell_type": "code",
   "execution_count": 30,
   "id": "d87a7486",
   "metadata": {},
   "outputs": [],
   "source": [
    "day_new = np.arange(1, 101)\n",
    "day_pred = np.arange(101, 131)"
   ]
  },
  {
   "cell_type": "code",
   "execution_count": 31,
   "id": "39150a1d",
   "metadata": {},
   "outputs": [
    {
     "data": {
      "text/plain": [
       "5044"
      ]
     },
     "execution_count": 31,
     "metadata": {},
     "output_type": "execute_result"
    }
   ],
   "source": [
    "len(nflx1)"
   ]
  },
  {
   "cell_type": "markdown",
   "id": "205588da",
   "metadata": {},
   "source": [
    "#### Graph of actual values in last 100 days"
   ]
  },
  {
   "cell_type": "code",
   "execution_count": 32,
   "id": "3fbb5cda",
   "metadata": {},
   "outputs": [
    {
     "data": {
      "image/png": "[encoded data removed]",
      "text/plain": [
       "<Figure size 640x480 with 1 Axes>"
      ]
     },
     "metadata": {},
     "output_type": "display_data"
    }
   ],
   "source": [
    "plt.plot(day_new, scaler.inverse_transform(nflx1[4944:]))\n",
    "plt.plot(day_pred, scaler.inverse_transform(output1));"
   ]
  },
  {
   "cell_type": "code",
   "execution_count": 33,
   "id": "1e9e7631",
   "metadata": {},
   "outputs": [
    {
     "data": {
      "image/png": "[encoded data removed]",
      "text/plain": [
       "<Figure size 640x480 with 1 Axes>"
      ]
     },
     "metadata": {},
     "output_type": "display_data"
    }
   ],
   "source": [
    "nflx2 = nflx1.tolist()\n",
    "nflx2.extend(output1)\n",
    "plt.plot(nflx2[1000:]);"
   ]
  },
  {
   "cell_type": "code",
   "execution_count": 34,
   "id": "bdf40150",
   "metadata": {},
   "outputs": [
    {
     "data": {
      "image/png": "[encoded data removed]",
      "text/plain": [
       "<Figure size 640x480 with 1 Axes>"
      ]
     },
     "metadata": {},
     "output_type": "display_data"
    }
   ],
   "source": [
    "nflx2 = scaler.inverse_transform(nflx2).tolist()\n",
    "plt.plot(nflx2);"
   ]
  },
  {
   "cell_type": "code",
   "execution_count": null,
   "id": "69fc6f87",
   "metadata": {},
   "outputs": [],
   "source": []
  }
 ],
 "metadata": {
  "kernelspec": {
   "display_name": "Python 3 (ipykernel)",
   "language": "python",
   "name": "python3"
  },
  "language_info": {
   "codemirror_mode": {
    "name": "ipython",
    "version": 3
   },
   "file_extension": ".py",
   "mimetype": "text/x-python",
   "name": "python",
   "nbconvert_exporter": "python",
   "pygments_lexer": "ipython3",
   "version": "3.10.13"
  }
 },
 "nbformat": 4,
 "nbformat_minor": 5
}
